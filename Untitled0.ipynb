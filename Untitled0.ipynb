{
  "cells": [
    {
      "cell_type": "markdown",
      "metadata": {
        "id": "view-in-github",
        "colab_type": "text"
      },
      "source": [
        "<a href=\"https://colab.research.google.com/github/iabbakr/Hamoyeee/blob/master/Untitled0.ipynb\" target=\"_parent\"><img src=\"https://colab.research.google.com/assets/colab-badge.svg\" alt=\"Open In Colab\"/></a>"
      ]
    },
    {
      "cell_type": "code",
      "execution_count": null,
      "metadata": {
        "id": "r26Mb0RpBIc-"
      },
      "outputs": [],
      "source": [
        "empty()\n",
        "zeros()\n",
        "ones()\n",
        "full()\n",
        "random.random()"
      ]
    },
    {
      "cell_type": "code",
      "execution_count": null,
      "metadata": {
        "colab": {
          "base_uri": "https://localhost:8080/"
        },
        "id": "piMnlfU7B87F",
        "outputId": "b2f39572-0371-4e7b-c8a0-e2ed40cd0216"
      },
      "outputs": [
        {
          "name": "stdout",
          "output_type": "stream",
          "text": [
            "<class 'list'>\n"
          ]
        }
      ],
      "source": [
        "import numpy as np\n",
        "\n",
        "arr = [1,2,3,4]\n",
        "print(type(arr))"
      ]
    },
    {
      "cell_type": "code",
      "execution_count": null,
      "metadata": {
        "colab": {
          "base_uri": "https://localhost:8080/"
        },
        "id": "CkFHpNdFCzKF",
        "outputId": "e4fd7ab6-9627-4a27-b84b-d8d822c0f2ce"
      },
      "outputs": [
        {
          "name": "stdout",
          "output_type": "stream",
          "text": [
            "<class 'numpy.ndarray'>\n",
            "(4,)\n",
            "1\n",
            "int64\n"
          ]
        }
      ],
      "source": [
        "a = np.array(arr)\n",
        "\n",
        "print(type(a))\n",
        "print(a.shape)\n",
        "print(a.ndim)\n",
        "print(a.dtype)"
      ]
    },
    {
      "cell_type": "code",
      "execution_count": null,
      "metadata": {
        "colab": {
          "base_uri": "https://localhost:8080/"
        },
        "id": "vP_bACG0ESV2",
        "outputId": "038dd0d8-c249-4ec1-ae19-f51eb9f6526b"
      },
      "outputs": [
        {
          "name": "stdout",
          "output_type": "stream",
          "text": [
            "[[1 3 5]\n",
            " [7 3 2]]\n",
            "<class 'numpy.ndarray'>\n",
            "(2, 3)\n",
            "int64\n",
            "2\n"
          ]
        }
      ],
      "source": [
        "b = np.array([[1,3,5],[7,3,2]])\n",
        "print(b)\n",
        "print(type(b))\n",
        "print(b.shape)\n",
        "print(b.dtype)\n",
        "print(b.ndim)"
      ]
    },
    {
      "cell_type": "code",
      "execution_count": null,
      "metadata": {
        "colab": {
          "base_uri": "https://localhost:8080/"
        },
        "id": "PMmFEYJMOqre",
        "outputId": "898e424a-0f4b-4b00-fd92-f430537ac1f5"
      },
      "outputs": [
        {
          "name": "stdout",
          "output_type": "stream",
          "text": [
            "[[0. 0. 0. 0.]\n",
            " [0. 0. 0. 0.]]\n",
            "[[1. 1. 1. 1.]\n",
            " [1. 1. 1. 1.]]\n",
            "[[0.25633928 0.4013807  0.1278998 ]\n",
            " [0.58015392 0.35510635 0.45621712]]\n",
            "[[1. 0. 0.]\n",
            " [0. 1. 0.]\n",
            " [0. 0. 1.]]\n"
          ]
        }
      ],
      "source": [
        "zero = np.zeros((2,4))\n",
        "print(zero)\n",
        "one = np.ones((2,4))\n",
        "print(one)\n",
        "rando = np.random.random((2,3))\n",
        "print(rando)\n",
        "idee = np.identity(3)\n",
        "print(idee)\n",
        "\n"
      ]
    },
    {
      "cell_type": "code",
      "execution_count": null,
      "metadata": {
        "colab": {
          "base_uri": "https://localhost:8080/"
        },
        "id": "zkeAeSP6Q-9n",
        "outputId": "c01756b1-5e5e-455c-8cb1-bc638711a216"
      },
      "outputs": [
        {
          "name": "stdout",
          "output_type": "stream",
          "text": [
            "[[13. 13. 13.]\n",
            " [10. 10. 10.]]\n",
            "[[36. 40. 42.]\n",
            " [ 9. 16. 21.]]\n",
            "[[2.25       1.6        1.16666667]\n",
            " [0.11111111 0.25       0.42857143]]\n",
            "[[ 5.  3.  1.]\n",
            " [-8. -6. -4.]]\n",
            "[[81. 64. 49.]\n",
            " [ 1.  4.  9.]]\n"
          ]
        }
      ],
      "source": [
        "c = np.array([[9.0,8.0,7.0],[1.0,2.0,3.0]])\n",
        "d = np.array([[4.0,5.0,6.0],[9.0,8.0,7.0]])\n",
        "\n",
        "print(c+d)\n",
        "print(c*d)\n",
        "print(c/d)\n",
        "print(c-d)\n",
        "print(c**2)"
      ]
    },
    {
      "cell_type": "code",
      "execution_count": null,
      "metadata": {
        "colab": {
          "base_uri": "https://localhost:8080/"
        },
        "id": "F5cWr5uzXUnz",
        "outputId": "0aa3d0cf-e759-46a9-e2d3-b44bbed7fcd6"
      },
      "outputs": [
        {
          "name": "stdout",
          "output_type": "stream",
          "text": [
            "[[10 11]\n",
            " [13 14]\n",
            " [16 17]]\n",
            "[15 17 18 14]\n",
            "[13 14 15 16 17 18 19 20 21]\n"
          ]
        }
      ],
      "source": [
        "e = np.array([[10,11,12],[13,14,15],\n",
        "            [16,17,18],[19,20,21]])\n",
        "\n",
        "print(e[:3, :2])\n",
        "\n",
        "print(e[[1,2,2,1],[2,1,2,1]])\n",
        "print(e[e>12])"
      ]
    },
    {
      "cell_type": "code",
      "execution_count": null,
      "metadata": {
        "colab": {
          "base_uri": "https://localhost:8080/"
        },
        "id": "1AUtHdvuY2zt",
        "outputId": "3ef89442-ef9a-42b6-f114-795b0ff044d6"
      },
      "outputs": [
        {
          "name": "stdout",
          "output_type": "stream",
          "text": [
            "0       monday\n",
            "1      tuesday\n",
            "2    wednesday\n",
            "dtype: object\n"
          ]
        }
      ],
      "source": [
        "import pandas as pd\n",
        "\n",
        "days = pd.Series([\"monday\",\"tuesday\",\"wednesday\"])\n",
        "print(days)"
      ]
    },
    {
      "cell_type": "markdown",
      "metadata": {
        "id": "89ZTm5Q1qcHE"
      },
      "source": []
    },
    {
      "cell_type": "code",
      "execution_count": null,
      "metadata": {
        "colab": {
          "base_uri": "https://localhost:8080/"
        },
        "id": "vnq6g_cNqTeQ",
        "outputId": "1cc994f4-7215-4a2b-d8f7-2ee09b1943f9"
      },
      "outputs": [
        {
          "name": "stdout",
          "output_type": "stream",
          "text": [
            "['monday' 'tuesday' 'wednesday']\n",
            "0       monday\n",
            "1      tuesday\n",
            "2    wednesday\n",
            "dtype: object\n"
          ]
        }
      ],
      "source": [
        "days_list = np.array([\"monday\",\"tuesday\",\"wednesday\"])\n",
        "day = pd.Series(days_list)\n",
        "print(days_list)\n",
        "print(day)"
      ]
    },
    {
      "cell_type": "code",
      "execution_count": null,
      "metadata": {
        "colab": {
          "base_uri": "https://localhost:8080/"
        },
        "id": "_yqq6OLcrK7h",
        "outputId": "85e651c3-6944-470e-b904-e438cd7bdae0"
      },
      "outputs": [
        {
          "name": "stdout",
          "output_type": "stream",
          "text": [
            "a       hi\n",
            "b    hello\n",
            "c      hey\n",
            "dtype: object\n",
            "a    mon\n",
            "b    tue\n",
            "c    wed\n",
            "dtype: object\n"
          ]
        }
      ],
      "source": [
        "dais = pd.Series(['hi','hello','hey'], index=['a','b','c'])\n",
        "print(dais)\n",
        "\n",
        "daii = pd.Series({'a':'mon', 'b':'tue', 'c':'wed'})\n",
        "print(daii)"
      ]
    },
    {
      "cell_type": "code",
      "execution_count": null,
      "metadata": {
        "colab": {
          "base_uri": "https://localhost:8080/"
        },
        "id": "cIe_ZH42G8GN",
        "outputId": "98040764-e4d8-45ae-ddf0-e1e1a2bcbb53"
      },
      "outputs": [
        {
          "name": "stdout",
          "output_type": "stream",
          "text": [
            "   country  capital population  age\n",
            "2     togo     lome      35000   75\n",
            "4    ghana    accra      10000   60\n",
            "6  nigeria    abuja      12000   80\n",
            "8    kenya  nairobi       8500   70\n",
            "country       nigeria\n",
            "capital         abuja\n",
            "population      12000\n",
            "age                80\n",
            "Name: 6, dtype: object\n",
            "country        togo\n",
            "capital        lome\n",
            "population    35000\n",
            "age              75\n",
            "Name: 2, dtype: object\n",
            "2       lome\n",
            "4      accra\n",
            "6      abuja\n",
            "8    nairobi\n",
            "Name: capital, dtype: object\n",
            "kenya\n",
            "nigeria\n"
          ]
        }
      ],
      "source": [
        "import pandas as pd\n",
        "df_dict = {\n",
        "    'country': ['togo','ghana','nigeria','kenya'],\n",
        "    'capital': ['lome','accra','abuja','nairobi'],\n",
        "    'population': ['35000','10000','12000','8500'],\n",
        "    'age': [75,60,80,70]\n",
        "}\n",
        "\n",
        "df = pd.DataFrame(df_dict, index=[2,4,6,8])\n",
        "print(df)\n",
        "\n",
        "df_list = [['togo','ghana','nigeria','kenya'],\n",
        "           ['lome','accra','abuja','nairobi'],\n",
        "           ['35000','10000','12000','8500'],\n",
        "           [75,60,80,70]]\n",
        "df1 = pd.DataFrame(df_list, columns=['country','capital','population','age'], index=[2,4,6,8])\n",
        "\n",
        "print(df.iloc[2])\n",
        "print(df.loc[2])\n",
        "print(df['capital'])\n",
        "print(df.at[8, 'country'])\n",
        "print(df.iat[2, 0])"
      ]
    },
    {
      "cell_type": "code",
      "execution_count": null,
      "metadata": {
        "colab": {
          "base_uri": "https://localhost:8080/"
        },
        "id": "zyB59r9Y5hNd",
        "outputId": "27bfbf1c-e4b6-4298-a673-c10c70b40b54"
      },
      "outputs": [
        {
          "name": "stdout",
          "output_type": "stream",
          "text": [
            "   country  capital  population  age\n",
            "2     togo     lome       35000   75\n",
            "4    ghana    accra       10000   60\n",
            "6  nigeria    abuja       12000   80\n",
            "8    kenya  nairobi        8500   70\n",
            "65500\n",
            "71.25\n",
            "0    60\n",
            "1    70\n",
            "2    75\n",
            "3    80\n",
            "Name: age, dtype: int64\n",
            "         population        age\n",
            "count      4.000000   4.000000\n",
            "mean   16375.000000  71.250000\n",
            "std    12499.166639   8.539126\n",
            "min     8500.000000  60.000000\n",
            "25%     9625.000000  67.500000\n",
            "50%    11000.000000  72.500000\n",
            "75%    17750.000000  76.250000\n",
            "max    35000.000000  80.000000\n"
          ]
        }
      ],
      "source": [
        "import pandas as pd\n",
        "df_dict = {\n",
        "    'country': ['togo','ghana','nigeria','kenya'],\n",
        "    'capital': ['lome','accra','abuja','nairobi'],\n",
        "    'population': [35000,10000,12000,8500],\n",
        "    'age': [75,60,80,70]\n",
        "}\n",
        "\n",
        "df = pd.DataFrame(df_dict, index=[2,4,6,8])\n",
        "print(df)\n",
        "print(df['population'].sum())\n",
        "print(df['age'].mean())\n",
        "print(df['age'].mode())\n",
        "print(df.describe())"
      ]
    },
    {
      "cell_type": "code",
      "execution_count": null,
      "metadata": {
        "colab": {
          "base_uri": "https://localhost:8080/"
        },
        "id": "SlcawK0T78Ji",
        "outputId": "cad137e0-1ef3-48a2-80e1-9055ca9da949"
      },
      "outputs": [
        {
          "output_type": "stream",
          "name": "stdout",
          "text": [
            "    name  profession  experience  height\n",
            "0  james  researcher        12.0     NaN\n",
            "1  yemen      artist         NaN   175.0\n",
            "2   caro      doctor        10.0   180.0\n",
            "3    NaN      writer         8.0   150.0\n",
            "    name  profession  experience  height\n",
            "0  False       False       False    True\n",
            "1  False       False        True   False\n",
            "2  False       False       False   False\n",
            "3   True       False       False   False\n"
          ]
        }
      ],
      "source": [
        "import pandas as pd\n",
        "import numpy as np\n",
        "\n",
        "df_dict = {\n",
        "    'name':['james','yemen','caro', np.nan],\n",
        "    'profession':['researcher','artist','doctor','writer'],\n",
        "    'experience':[12,np.nan,10,8],\n",
        "    'height':[np.nan,175,180,150]\n",
        "}\n",
        "\n",
        "dff = pd.DataFrame(df_dict)\n",
        "print(dff)\n",
        "print(dff.isnull())"
      ]
    },
    {
      "cell_type": "code",
      "execution_count": null,
      "metadata": {
        "id": "ziFSKTV-7Hbt",
        "colab": {
          "base_uri": "https://localhost:8080/"
        },
        "outputId": "f8e63f3d-b6f8-4497-f086-bf137c366b09"
      },
      "outputs": [
        {
          "output_type": "stream",
          "name": "stdout",
          "text": [
            "    name  profession experience height\n",
            "0  james  researcher       12.0    mcf\n",
            "1  yemen      artist        mcf  175.0\n",
            "2   caro      doctor       10.0  180.0\n",
            "3    mcf      writer        8.0  150.0\n",
            "name          1\n",
            "profession    0\n",
            "experience    1\n",
            "height        1\n",
            "dtype: int64\n",
            "    name  profession  experience  height\n",
            "0  False       False       False    True\n",
            "1  False       False        True   False\n",
            "2  False       False       False   False\n",
            "3   True       False       False   False\n"
          ]
        }
      ],
      "source": [
        "dff2 = dff.groupby('name').count()\n",
        "\n",
        "print(dff.fillna(value='mcf'))\n",
        "print(dff.isnull().sum())\n",
        "print(dff.isnull())"
      ]
    },
    {
      "cell_type": "code",
      "source": [],
      "metadata": {
        "id": "M2tk-dL5jC4K"
      },
      "execution_count": null,
      "outputs": []
    },
    {
      "cell_type": "code",
      "source": [
        "\n",
        "studList = {\n",
        "    'BoyorGirl':['boy','boy','girl','boy','girl','girl','boy','boy','boy'],\n",
        "    'Score':[23,45,32,5,76,45,16,12,24,]\n",
        "}\n",
        "st = pd.DataFrame(studList, index=[1,2,3,4,5,6,7,8,9])\n",
        "print(st)"
      ],
      "metadata": {
        "colab": {
          "base_uri": "https://localhost:8080/"
        },
        "id": "t2eIbvouP1lT",
        "outputId": "22b22c96-a354-4eb6-8019-ac900848eea3"
      },
      "execution_count": null,
      "outputs": [
        {
          "output_type": "stream",
          "name": "stdout",
          "text": [
            "  BoyorGirl  Score\n",
            "1       boy     23\n",
            "2       boy     45\n",
            "3      girl     32\n",
            "4       boy      5\n",
            "5      girl     76\n",
            "6      girl     45\n",
            "7       boy     16\n",
            "8       boy     12\n",
            "9       boy     24\n"
          ]
        }
      ]
    },
    {
      "cell_type": "code",
      "source": [
        "\n",
        "st1 = st.iloc[0:4].reset_index(drop=True)\n",
        "st2 = st.iloc[4:].reset_index(drop=True)\n",
        "\n",
        "print(st1)\n",
        "print(st2)"
      ],
      "metadata": {
        "colab": {
          "base_uri": "https://localhost:8080/"
        },
        "id": "t2I8yVFagIej",
        "outputId": "294e1be4-8980-44a8-ea65-1ce35435e562"
      },
      "execution_count": null,
      "outputs": [
        {
          "output_type": "stream",
          "name": "stdout",
          "text": [
            "  BoyorGirl  Score\n",
            "0       boy     23\n",
            "1       boy     45\n",
            "2      girl     32\n",
            "3       boy      5\n",
            "   index BoyorGirl  Score\n",
            "0      5      girl     76\n",
            "1      6      girl     45\n",
            "2      7       boy     16\n",
            "3      8       boy     12\n",
            "4      9       boy     24\n"
          ]
        }
      ]
    },
    {
      "cell_type": "code",
      "source": [
        "h = pd.merge(st1,st2, how='inner')\n",
        "print(h)"
      ],
      "metadata": {
        "colab": {
          "base_uri": "https://localhost:8080/"
        },
        "id": "CI9HPWqnnQvY",
        "outputId": "b1060d8f-6833-4b54-8bc9-8ba1281c9a5b"
      },
      "execution_count": null,
      "outputs": [
        {
          "output_type": "stream",
          "name": "stdout",
          "text": [
            "Empty DataFrame\n",
            "Columns: [BoyorGirl, Score]\n",
            "Index: []\n"
          ]
        }
      ]
    },
    {
      "cell_type": "code",
      "source": [
        "import matplotlib as plt\n",
        "\n",
        "tt = {\n",
        "    'Names':['amin','aziz','jam','abu','sad','fat','sun','moo','hey'],\n",
        "    'Score':[23,45,32,5,76,45,16,12,24,]\n",
        "}\n",
        "ts = pd.DataFrame(tt)\n",
        "print(ts)\n",
        "plt.figure(figsize(7,4))\n",
        "plt.xtics(rotation=90)\n",
        "sns.barplot(data=ts, x='Name', y='Score')\n",
        "plt.xlabel('scorelist')"
      ],
      "metadata": {
        "colab": {
          "base_uri": "https://localhost:8080/",
          "height": 429
        },
        "id": "bvukKpN2pZuy",
        "outputId": "f05f29ed-b66b-4da9-9c65-ff88feee43a1"
      },
      "execution_count": null,
      "outputs": [
        {
          "output_type": "stream",
          "name": "stdout",
          "text": [
            "  Names  Score\n",
            "0  amin     23\n",
            "1  aziz     45\n",
            "2   jam     32\n",
            "3   abu      5\n",
            "4   sad     76\n",
            "5   fat     45\n",
            "6   sun     16\n",
            "7   moo     12\n",
            "8   hey     24\n"
          ]
        },
        {
          "output_type": "error",
          "ename": "NameError",
          "evalue": "ignored",
          "traceback": [
            "\u001b[0;31m---------------------------------------------------------------------------\u001b[0m",
            "\u001b[0;31mNameError\u001b[0m                                 Traceback (most recent call last)",
            "\u001b[0;32m<ipython-input-69-c76ccb1966bc>\u001b[0m in \u001b[0;36m<cell line: 9>\u001b[0;34m()\u001b[0m\n\u001b[1;32m      7\u001b[0m \u001b[0mts\u001b[0m \u001b[0;34m=\u001b[0m \u001b[0mpd\u001b[0m\u001b[0;34m.\u001b[0m\u001b[0mDataFrame\u001b[0m\u001b[0;34m(\u001b[0m\u001b[0mtt\u001b[0m\u001b[0;34m)\u001b[0m\u001b[0;34m\u001b[0m\u001b[0;34m\u001b[0m\u001b[0m\n\u001b[1;32m      8\u001b[0m \u001b[0mprint\u001b[0m\u001b[0;34m(\u001b[0m\u001b[0mts\u001b[0m\u001b[0;34m)\u001b[0m\u001b[0;34m\u001b[0m\u001b[0;34m\u001b[0m\u001b[0m\n\u001b[0;32m----> 9\u001b[0;31m \u001b[0mplt\u001b[0m\u001b[0;34m.\u001b[0m\u001b[0mfigure\u001b[0m\u001b[0;34m(\u001b[0m\u001b[0mfigsize\u001b[0m\u001b[0;34m(\u001b[0m\u001b[0;36m7\u001b[0m\u001b[0;34m,\u001b[0m\u001b[0;36m4\u001b[0m\u001b[0;34m)\u001b[0m\u001b[0;34m)\u001b[0m\u001b[0;34m\u001b[0m\u001b[0;34m\u001b[0m\u001b[0m\n\u001b[0m\u001b[1;32m     10\u001b[0m \u001b[0mplt\u001b[0m\u001b[0;34m.\u001b[0m\u001b[0mxtics\u001b[0m\u001b[0;34m(\u001b[0m\u001b[0mrotation\u001b[0m\u001b[0;34m=\u001b[0m\u001b[0;36m90\u001b[0m\u001b[0;34m)\u001b[0m\u001b[0;34m\u001b[0m\u001b[0;34m\u001b[0m\u001b[0m\n\u001b[1;32m     11\u001b[0m \u001b[0msns\u001b[0m\u001b[0;34m.\u001b[0m\u001b[0mbarplot\u001b[0m\u001b[0;34m(\u001b[0m\u001b[0mdata\u001b[0m\u001b[0;34m=\u001b[0m\u001b[0mts\u001b[0m\u001b[0;34m,\u001b[0m \u001b[0mx\u001b[0m\u001b[0;34m=\u001b[0m\u001b[0;34m'Name'\u001b[0m\u001b[0;34m,\u001b[0m \u001b[0my\u001b[0m\u001b[0;34m=\u001b[0m\u001b[0;34m'Score'\u001b[0m\u001b[0;34m)\u001b[0m\u001b[0;34m\u001b[0m\u001b[0;34m\u001b[0m\u001b[0m\n",
            "\u001b[0;31mNameError\u001b[0m: name 'figsize' is not defined"
          ]
        }
      ]
    },
    {
      "cell_type": "code",
      "source": [
        "import matplotlib.pyplot as plt\n",
        "import seaborn as sns\n",
        "import numpy as np\n",
        "import sklearn\n",
        "from scipy import stats\n",
        "\n",
        "plt.figure(figsize=(7,4))\n",
        "plt.xticks(rotation=90)\n",
        "fuel_unit = pd.DataFrame({'unit':['BBL', 'GAL', 'GRAMSU', 'KGU', 'MCF', 'MMBTU','MWDTH', 'MWHTH', 'TON'],\n",
        "                          'count':[7998, 84, 464, 110,1354, 180, 95, 100, 8958]})\n",
        "sns.barplot(data=fuel_unit, x='unit', y='count')\n",
        "plt.xlabel('Fuel Unit')\n",
        "\n"
      ],
      "metadata": {
        "colab": {
          "base_uri": "https://localhost:8080/",
          "height": 452
        },
        "id": "DjLSoCAkoRqF",
        "outputId": "af22d9eb-b523-4159-8e18-fc6b8527639f"
      },
      "execution_count": null,
      "outputs": [
        {
          "output_type": "execute_result",
          "data": {
            "text/plain": [
              "Text(0.5, 0, 'Fuel Unit')"
            ]
          },
          "metadata": {},
          "execution_count": 78
        },
        {
          "output_type": "display_data",
          "data": {
            "text/plain": [
              "<Figure size 700x400 with 1 Axes>"
            ],
            "image/png": "[encoded data removed]"
          },
          "metadata": {}
        }
      ]
    },
    {
      "cell_type": "code",
      "source": [],
      "metadata": {
        "id": "UeyjSPQ-n_6B"
      },
      "execution_count": null,
      "outputs": []
    }
  ],
  "metadata": {
    "colab": {
      "provenance": [],
      "authorship_tag": "ABX9TyNmK8Cc4IF9B/E6uYrkGPOF",
      "include_colab_link": true
    },
    "kernelspec": {
      "display_name": "Python 3",
      "name": "python3"
    },
    "language_info": {
      "name": "python"
    }
  },
  "nbformat": 4,
  "nbformat_minor": 0
}